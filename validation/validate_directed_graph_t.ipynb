{
 "cells": [
  {
   "cell_type": "markdown",
   "metadata": {},
   "source": [
    "## Validation\n",
    "\n",
    "This notebook compares the results obtained with the class edgelist_perco_t with that obtained with graph_tool.\n",
    "\n",
    "```\n",
    "Copyright (C) 2020  Antoine Allard (antoineallard.info)\n",
    "\n",
    "This program is free software: you can redistribute it and/or modify\n",
    "it under the terms of the GNU General Public License as published by\n",
    "the Free Software Foundation, either version 3 of the License, or\n",
    "(at your option) any later version.\n",
    "\n",
    "This program is distributed in the hope that it will be useful,\n",
    "but WITHOUT ANY WARRANTY; without even the implied warranty of\n",
    "MERCHANTABILITY or FITNESS FOR A PARTICULAR PURPOSE.  See the\n",
    "GNU General Public License for more details.\n",
    "\n",
    "You should have received a copy of the GNU General Public License\n",
    "along with this program.  If not, see <https://www.gnu.org/licenses/>.\n",
    "```"
   ]
  },
  {
   "cell_type": "code",
   "execution_count": 1,
   "metadata": {},
   "outputs": [],
   "source": [
    "import subprocess\n",
    "import filecmp\n",
    "import tarfile\n",
    "import glob"
   ]
  },
  {
   "cell_type": "markdown",
   "metadata": {},
   "source": [
    "### Extracts the validation data"
   ]
  },
  {
   "cell_type": "code",
   "execution_count": 2,
   "metadata": {},
   "outputs": [],
   "source": [
    "# Extracts the archive containing the edgelists used for validation.\n",
    "with tarfile.open(\"validation_edgelists.tar.xz\", \"r:xz\") as tar:\n",
    "    tar.extractall()\n",
    "\n",
    "# Lists all edgelist files.\n",
    "edgelist_filenames = glob.glob(\"example*_edgelist.dat\")"
   ]
  },
  {
   "cell_type": "markdown",
   "metadata": {},
   "source": [
    "### Compiles the PGL code"
   ]
  },
  {
   "cell_type": "code",
   "execution_count": 3,
   "metadata": {},
   "outputs": [
    {
     "name": "stdout",
     "output_type": "stream",
     "text": [
      "Compilation successful\n"
     ]
    }
   ],
   "source": [
    "# Compiles the code.\n",
    "status = subprocess.run([\"g++\", \"-O3\", \"validation_directed_graph_t.cpp\", \"-o\", \"validation_directed_graph_t\"])\n",
    "if status.returncode == 0:\n",
    "    print(\"Compilation successful\")\n",
    "else:\n",
    "    print(\"Compilation error\")"
   ]
  },
  {
   "cell_type": "markdown",
   "metadata": {},
   "source": [
    "### Validates the PGL code with outputs obtained using networkx"
   ]
  },
  {
   "cell_type": "code",
   "execution_count": 4,
   "metadata": {
    "scrolled": false
   },
   "outputs": [
    {
     "name": "stdout",
     "output_type": "stream",
     "text": [
      "Validating directed_graph_t using:\n",
      "   using file: example01_edgelist.dat\n",
      "        - Extacting info using NetworkX...done.\n",
      "        - Extracting info using PGL...done.\n",
      "        - Comparing outputs...done.   \u001b[92mTest PASSED\u001b[0m\n",
      "   using file: example06_edgelist.dat\n",
      "        - Extacting info using NetworkX...done.\n",
      "        - Extracting info using PGL...done.\n",
      "        - Comparing outputs...done.   \u001b[92mTest PASSED\u001b[0m\n",
      "   using file: example07_edgelist.dat\n",
      "        - Extacting info using NetworkX...done.\n",
      "        - Extracting info using PGL...done.\n",
      "        - Comparing outputs...done.   \u001b[92mTest PASSED\u001b[0m\n",
      "   using file: example09_edgelist.dat\n",
      "        - Extacting info using NetworkX...done.\n",
      "        - Extracting info using PGL...done.\n",
      "        - Comparing outputs...done.   \u001b[92mTest PASSED\u001b[0m\n",
      "   using file: example08_edgelist.dat\n",
      "        - Extacting info using NetworkX...done.\n",
      "        - Extracting info using PGL...done.\n",
      "        - Comparing outputs...done.   \u001b[92mTest PASSED\u001b[0m\n",
      "   using file: example05_edgelist.dat\n",
      "        - Extacting info using NetworkX...done.\n",
      "        - Extracting info using PGL...done.\n",
      "        - Comparing outputs...done.   \u001b[92mTest PASSED\u001b[0m\n",
      "   using file: example04_edgelist.dat\n",
      "        - Extacting info using NetworkX...done.\n",
      "        - Extracting info using PGL...done.\n",
      "        - Comparing outputs...done.   \u001b[92mTest PASSED\u001b[0m\n",
      "   using file: example03_edgelist.dat\n",
      "        - Extacting info using NetworkX...done.\n",
      "        - Extracting info using PGL...done.\n",
      "        - Comparing outputs...done.   \u001b[92mTest PASSED\u001b[0m\n"
     ]
    }
   ],
   "source": [
    "print(\"Validating directed_graph_t using:\")\n",
    "for edgelist_filename in edgelist_filenames:\n",
    "    print(\"   using file: {}\".format(edgelist_filename))\n",
    "\n",
    "    print(\"        - Extacting info using NetworkX...\", end=\"\")\n",
    "    %run validation_directed_graph_t.py {edgelist_filename}\n",
    "    print(\"done.\")\n",
    "\n",
    "    print(\"        - Extracting info using PGL...\", end = \"\")\n",
    "    status = subprocess.run([\"./validation_directed_graph_t\", edgelist_filename])\n",
    "    print(\"done.\")\n",
    "\n",
    "    print(\"        - Comparing outputs...\", end=\"\")\n",
    "    is_ouput1_the_same = filecmp.cmp(\"validation_g_prop_pgl.dat\", \"validation_g_prop_networkx.dat\")\n",
    "    is_ouput2_the_same = filecmp.cmp(\"validation_v_prop_pgl.dat\", \"validation_v_prop_networkx.dat\")\n",
    "    is_ouput3_the_same = filecmp.cmp(\"validation_triangles_pgl.dat\", \"validation_triangles_networkx.dat\")\n",
    "    is_ouput4_the_same = filecmp.cmp(\"validation_triangle_spect_pgl.dat\", \"validation_triangle_spect_networkx.dat\")\n",
    "    \n",
    "    if is_ouput1_the_same and is_ouput2_the_same and is_ouput3_the_same and is_ouput4_the_same:\n",
    "        print(\"done.   \"'\\033[92m'\"Test PASSED\"'\\033[0m')\n",
    "    else:\n",
    "        print(\"done.   \"'\\033[91m'\"Test FAILED\"'\\033[0m')"
   ]
  },
  {
   "cell_type": "code",
   "execution_count": null,
   "metadata": {},
   "outputs": [],
   "source": []
  }
 ],
 "metadata": {
  "kernelspec": {
   "display_name": "Python 3",
   "language": "python",
   "name": "python3"
  },
  "language_info": {
   "codemirror_mode": {
    "name": "ipython",
    "version": 3
   },
   "file_extension": ".py",
   "mimetype": "text/x-python",
   "name": "python",
   "nbconvert_exporter": "python",
   "pygments_lexer": "ipython3",
   "version": "3.8.5"
  }
 },
 "nbformat": 4,
 "nbformat_minor": 4
}
